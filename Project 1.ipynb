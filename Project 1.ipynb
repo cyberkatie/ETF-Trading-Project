{
 "cells": [
  {
   "cell_type": "markdown",
   "metadata": {},
   "source": [
    "# ETF Trading Project 1\n",
    "\n",
    "For this project we are looking at three questions:\n",
    "* What is the investment criteria we are looking at?\n",
    "    * We want to pick and ETF that is going to benefit us most, we can choose which ETFs to invest in by finding which has the lowest risk and the highest reward. \n",
    "* How did we pick the variable to analyze for the first question?\n",
    "* Is short-term trading better than long-term (ex. buy and holding)? \n",
    "\n",
    "Goal: "
   ]
  },
  {
   "cell_type": "code",
   "execution_count": 1,
   "metadata": {},
   "outputs": [
    {
     "name": "stderr",
     "output_type": "stream",
     "text": [
      "C:\\Users\\mmkat\\anaconda3\\New folder\\lib\\site-packages\\pyfolio\\pos.py:26: UserWarning: Module \"zipline.assets\" not found; mutltipliers will not be applied to position notionals.\n",
      "  warnings.warn(\n"
     ]
    }
   ],
   "source": [
    "#Import Dependencies\n",
    "import yfinance as yf\n",
    "import os\n",
    "import pyfolio as pf\n",
    "from datetime import datetime\n",
    "import numpy as np\n",
    "\n",
    "import matplotlib.pyplot as plt\n",
    "import warnings\n",
    "\n",
    "warnings.filterwarnings('ignore')"
   ]
  },
  {
   "cell_type": "code",
   "execution_count": 2,
   "metadata": {},
   "outputs": [],
   "source": [
    "#Create a class to import the data\n",
    "def download_data(stock, start, end):\n",
    "    data = yf.download(stock, start, end)\n",
    "    return data"
   ]
  },
  {
   "cell_type": "code",
   "execution_count": 3,
   "metadata": {},
   "outputs": [
    {
     "name": "stdout",
     "output_type": "stream",
     "text": [
      "[*********************100%***********************]  5 of 5 completed\n"
     ]
    }
   ],
   "source": [
    "#Creating a list of the names of the ETFs\n",
    "stocks = ['SPY', 'QQQ','GLD', 'TIP', 'VWO']\n",
    "\n",
    "#Getting data from the stocks from January 1, 2000 to December 31, 2022\n",
    "data = download_data(stocks, '2000-1-1', '2022-12-31')\n",
    "\n",
    "#Importing data to CSV file\n",
    "data.to_csv('Mul.csv')"
   ]
  },
  {
   "cell_type": "code",
   "execution_count": null,
   "metadata": {},
   "outputs": [],
   "source": [
    "#Drop NaN values\n",
    "data.dropna()\n",
    "p_spy = data['Pct_Change_SPY'] = data['Close']['SPY'].pct_change()\n",
    "p_qqq = data['Pct_Change_QQQ'] = data['Close']['QQQ'].pct_change()\n",
    "p_gld = data['Pct_Change_GLD'] = data['Close']['GLD'].pct_change()\n",
    "p_tip = data['Pct_Change_TIP'] = data['Close']['TIP'].pct_change()\n",
    "p_vwo = data['Pct_Change_VWO'] = data['Close']['VWO'].pct_change()\n",
    "data"
   ]
  }
 ],
 "metadata": {
  "kernelspec": {
   "display_name": "Python 3",
   "language": "python",
   "name": "python3"
  },
  "language_info": {
   "codemirror_mode": {
    "name": "ipython",
    "version": 3
   },
   "file_extension": ".py",
   "mimetype": "text/x-python",
   "name": "python",
   "nbconvert_exporter": "python",
   "pygments_lexer": "ipython3",
   "version": "3.8.5"
  }
 },
 "nbformat": 4,
 "nbformat_minor": 4
}
